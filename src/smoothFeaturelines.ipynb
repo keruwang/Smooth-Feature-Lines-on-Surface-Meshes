{
 "cells": [
  {
   "cell_type": "code",
   "execution_count": 3,
   "metadata": {
    "scrolled": true
   },
   "outputs": [],
   "source": [
    "import numpy as np\n",
    "import igl\n",
    "import meshplot as mp\n",
    "import math\n",
    "import scipy.sparse as sp\n",
    "from numpy import matlib as mb\n",
    "from math import sqrt"
   ]
  },
  {
   "cell_type": "markdown",
   "metadata": {},
   "source": [
    "# Load Data"
   ]
  },
  {
   "cell_type": "code",
   "execution_count": 34,
   "metadata": {},
   "outputs": [
    {
     "data": {
      "application/vnd.jupyter.widget-view+json": {
       "model_id": "3cc3caa6519a41caa2ff34c527872432",
       "version_major": 2,
       "version_minor": 0
      },
      "text/plain": [
       "Renderer(camera=PerspectiveCamera(children=(DirectionalLight(color='white', intensity=0.6, position=(5.0, -23.…"
      ]
     },
     "metadata": {},
     "output_type": "display_data"
    }
   ],
   "source": [
    "v, f = igl.read_triangle_mesh('../data/cat.off')\n",
    "v /= 10\n",
    "mp.plot(v, f, shading={\"point_size\": 8})\n",
    "kdmax, kdmin, kmax, kmin = igl.principal_curvature(v,f)  "
   ]
  },
  {
   "cell_type": "code",
   "execution_count": 50,
   "metadata": {},
   "outputs": [],
   "source": [
    "def getAdjacentFaces(v,f):\n",
    "    VF, NI = igl.vertex_triangle_adjacency(f, v.shape[0])\n",
    "    VFi = []\n",
    "    for i in range(NI.shape[0] - 1):\n",
    "        VFii = []\n",
    "        jj = NI[i + 1] - NI[i]\n",
    "        for j in range(jj):\n",
    "            VFii.append(VF[NI[i] + j])\n",
    "        VFi.append(VFii)\n",
    "    return VFi\n",
    "\n",
    "VFi = getAdjacentFaces(v,f)               "
   ]
  },
  {
   "cell_type": "markdown",
   "metadata": {},
   "source": [
    "# Find Regular Triangle"
   ]
  },
  {
   "cell_type": "code",
   "execution_count": 38,
   "metadata": {},
   "outputs": [],
   "source": [
    "def sign(x):\n",
    "    return (x > 0) - (x < 0)\n",
    "\n",
    "def mark_regular(f,kdmax,kdmin):\n",
    "    singular = []\n",
    "    regular = []\n",
    "    for indfi, fi in enumerate(f):\n",
    "        sign_min = 1\n",
    "        sign_max = 1\n",
    "        for i in range(3):\n",
    "            for j in range(i+1,3):\n",
    "                sign_min *= np.dot(kdmin[fi[i]],kdmin[fi[j]])\n",
    "                sign_max *= np.dot(kdmax[fi[i]],kdmax[fi[j]])\n",
    "        if sign_min > 0 and sign_max > 0:\n",
    "            regular.append(indfi)\n",
    "        else:\n",
    "            singular.append(indfi)\n",
    "    return np.array(regular), np.array(singular)\n",
    "\n",
    "regular, singular = mark_regular(f,kdmax,kdmin)"
   ]
  },
  {
   "cell_type": "markdown",
   "metadata": {},
   "source": [
    "# Compute Area Star"
   ]
  },
  {
   "cell_type": "code",
   "execution_count": 17,
   "metadata": {},
   "outputs": [],
   "source": [
    "def area_star(v, f):\n",
    "    A = igl.doublearea(v,f)\n",
    "    AS = np.zeros((v.shape[0],1))\n",
    "    for indfi, fi in enumerate(f):\n",
    "        for vi in fi:\n",
    "            ind = vi\n",
    "            AS[vi] += 0.5 * np.absolute(A[indfi])\n",
    "    return AS\n",
    "\n",
    "AS = area_star(v,f)"
   ]
  },
  {
   "cell_type": "markdown",
   "metadata": {},
   "source": [
    "# Compute Extremalities"
   ]
  },
  {
   "cell_type": "code",
   "execution_count": 60,
   "metadata": {},
   "outputs": [
    {
     "name": "stdout",
     "output_type": "stream",
     "text": [
      "(366, 1)\n",
      "(698, 3)\n",
      "(366, 3)\n"
     ]
    }
   ],
   "source": [
    "def extremalities(v, f, k, kd):\n",
    "    EX = np.zeros((v.shape[0],1))\n",
    "    A = igl.doublearea(v,f)\n",
    "    G = igl.grad(v, f)\n",
    "    grad_k = G * k\n",
    "    neighbour = getAdjacentFaces(v,f) \n",
    "    for indvi, vi in enumerate(v):\n",
    "        area = 0\n",
    "        ex = 0\n",
    "        for vfi in neighbour[indvi]:\n",
    "            area += A[vfi] # compute area star\n",
    "        for indvfi, vfi in enumerate(neighbour[indvi]):\n",
    "            g = np.array([grad_k[vfi], grad_k[f.shape[0] + vfi], grad_k[2 * f.shape[0] + vfi]])\n",
    "            ex += A[vfi] * np.dot(g,kd[indvi,:])\n",
    "        ex /= area\n",
    "        EX[indvi] = ex\n",
    "    return EX\n",
    "\n",
    "EX_max = extremalities(v, f, kmax, kdmax)\n",
    "EX_min = extremalities(v, f, kmin, kdmin)\n",
    "print(EX_max.shape)\n",
    "print(f.shape)\n",
    "print(v.shape)"
   ]
  },
  {
   "cell_type": "markdown",
   "metadata": {},
   "source": [
    "# Extract Feature Line"
   ]
  },
  {
   "cell_type": "code",
   "execution_count": null,
   "metadata": {},
   "outputs": [],
   "source": [
    "def extract_feature_line(v, f, kmax, kmin, KD, EX, regular):\n",
    "    # for regular faces\n",
    "    fr = [f[index] for index in regular]\n",
    "    TT, TTi = igl.triangle_triangle_adjacency(fr)\n",
    "    edges = []\n",
    "    marked_edges = []\n",
    "    for indfri, fri in enumerate(fr):\n",
    "        ex = [EX[index] for index in fri]\n",
    "        kd = [KD[index] for index in fri]\n",
    "        # flip signs\n",
    "        for i in range(3):\n",
    "            if(np.dot())\n",
    "        "
   ]
  },
  {
   "cell_type": "markdown",
   "metadata": {},
   "source": [
    "# Processing Singular Trangles"
   ]
  },
  {
   "cell_type": "code",
   "execution_count": 8,
   "metadata": {
    "scrolled": true
   },
   "outputs": [
    {
     "data": {
      "application/vnd.jupyter.widget-view+json": {
       "model_id": "fed1a07d07bd4a03a867d3bb6cd8e5ed",
       "version_major": 2,
       "version_minor": 0
      },
      "text/plain": [
       "Renderer(camera=PerspectiveCamera(children=(DirectionalLight(color='white', intensity=0.6, position=(5.0120944…"
      ]
     },
     "metadata": {},
     "output_type": "display_data"
    },
    {
     "data": {
      "text/plain": [
       "<meshplot.Viewer.Viewer at 0x7fe25972a280>"
      ]
     },
     "execution_count": 8,
     "metadata": {},
     "output_type": "execute_result"
    }
   ],
   "source": []
  }
 ],
 "metadata": {
  "kernelspec": {
   "display_name": "Python 3",
   "language": "python",
   "name": "python3"
  },
  "language_info": {
   "codemirror_mode": {
    "name": "ipython",
    "version": 3
   },
   "file_extension": ".py",
   "mimetype": "text/x-python",
   "name": "python",
   "nbconvert_exporter": "python",
   "pygments_lexer": "ipython3",
   "version": "3.8.5"
  }
 },
 "nbformat": 4,
 "nbformat_minor": 4
}
