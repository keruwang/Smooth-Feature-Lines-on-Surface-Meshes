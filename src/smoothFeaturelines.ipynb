{
 "cells": [
  {
   "cell_type": "code",
   "execution_count": 1,
   "metadata": {
    "scrolled": true
   },
   "outputs": [],
   "source": [
    "import numpy as np\n",
    "import igl\n",
    "import meshplot as mp\n",
    "import math\n",
    "import scipy.sparse as sp\n",
    "from numpy import matlib as mb\n",
    "from math import sqrt"
   ]
  },
  {
   "cell_type": "markdown",
   "metadata": {},
   "source": [
    "# Load Data"
   ]
  },
  {
   "cell_type": "code",
   "execution_count": 2,
   "metadata": {},
   "outputs": [
    {
     "data": {
      "application/vnd.jupyter.widget-view+json": {
       "model_id": "880fb14f832e48e089b9160ed56114de",
       "version_major": 2,
       "version_minor": 0
      },
      "text/plain": [
       "Renderer(camera=PerspectiveCamera(children=(DirectionalLight(color='white', intensity=0.6, position=(0.8809995…"
      ]
     },
     "metadata": {},
     "output_type": "display_data"
    },
    {
     "data": {
      "application/vnd.jupyter.widget-view+json": {
       "model_id": "3adec1807033444b888a36836e8e7bc3",
       "version_major": 2,
       "version_minor": 0
      },
      "text/plain": [
       "Renderer(camera=PerspectiveCamera(children=(DirectionalLight(color='white', intensity=0.6, position=(0.8809995…"
      ]
     },
     "metadata": {},
     "output_type": "display_data"
    },
    {
     "data": {
      "text/plain": [
       "<meshplot.Viewer.Viewer at 0x7fc2d9065340>"
      ]
     },
     "execution_count": 2,
     "metadata": {},
     "output_type": "execute_result"
    }
   ],
   "source": [
    "v, f = igl.read_triangle_mesh('../data/camel_head.off')\n",
    "\n",
    "kdmin, kdmax, kmin, kmax = igl.principal_curvature(v,f)  \n",
    "kdmax /= np.linalg.norm(kdmax)\n",
    "kdmin /= np.linalg.norm(kdmin)\n",
    "mp.plot(v, f, c=kmax)\n",
    "mp.plot(v, f, c=kmin)"
   ]
  },
  {
   "cell_type": "code",
   "execution_count": 3,
   "metadata": {},
   "outputs": [],
   "source": [
    "def getAdjacentFaces(v,f):\n",
    "    VF, NI = igl.vertex_triangle_adjacency(f, v.shape[0])\n",
    "    VFi = []\n",
    "    for i in range(NI.shape[0] - 1):\n",
    "        VFii = []\n",
    "        jj = NI[i + 1] - NI[i]\n",
    "        for j in range(jj):\n",
    "            VFii.append(VF[NI[i] + j])\n",
    "        VFi.append(VFii)\n",
    "    return VFi"
   ]
  },
  {
   "cell_type": "markdown",
   "metadata": {},
   "source": [
    "# Compute Principal Curvatures"
   ]
  },
  {
   "cell_type": "code",
   "execution_count": 4,
   "metadata": {},
   "outputs": [
    {
     "ename": "TypeError",
     "evalue": "list indices must be integers or slices, not tuple",
     "output_type": "error",
     "traceback": [
      "\u001b[0;31m---------------------------------------------------------------------------\u001b[0m",
      "\u001b[0;31mTypeError\u001b[0m                                 Traceback (most recent call last)",
      "\u001b[0;32m<ipython-input-4-e5ef53271ea4>\u001b[0m in \u001b[0;36m<module>\u001b[0;34m\u001b[0m\n\u001b[1;32m     29\u001b[0m             \u001b[0mevalue\u001b[0m\u001b[0;34m,\u001b[0m \u001b[0mevector\u001b[0m \u001b[0;34m=\u001b[0m \u001b[0mnp\u001b[0m\u001b[0;34m.\u001b[0m\u001b[0mlinalg\u001b[0m\u001b[0;34m.\u001b[0m\u001b[0meig\u001b[0m\u001b[0;34m(\u001b[0m\u001b[0mS\u001b[0m\u001b[0;34m)\u001b[0m\u001b[0;34m\u001b[0m\u001b[0;34m\u001b[0m\u001b[0m\n\u001b[1;32m     30\u001b[0m             \u001b[0mprint\u001b[0m\u001b[0;34m(\u001b[0m\u001b[0mevalue\u001b[0m\u001b[0;34m)\u001b[0m\u001b[0;34m\u001b[0m\u001b[0;34m\u001b[0m\u001b[0m\n\u001b[0;32m---> 31\u001b[0;31m \u001b[0mprincipal_curvatures\u001b[0m\u001b[0;34m(\u001b[0m\u001b[0mv\u001b[0m\u001b[0;34m,\u001b[0m\u001b[0mf\u001b[0m\u001b[0;34m)\u001b[0m\u001b[0;34m\u001b[0m\u001b[0;34m\u001b[0m\u001b[0m\n\u001b[0m",
      "\u001b[0;32m<ipython-input-4-e5ef53271ea4>\u001b[0m in \u001b[0;36mprincipal_curvatures\u001b[0;34m(v, f)\u001b[0m\n\u001b[1;32m     15\u001b[0m         \u001b[0;32mfor\u001b[0m \u001b[0mi\u001b[0m\u001b[0;34m,\u001b[0m \u001b[0mvfi\u001b[0m \u001b[0;32min\u001b[0m \u001b[0menumerate\u001b[0m\u001b[0;34m(\u001b[0m\u001b[0mVFi\u001b[0m\u001b[0;34m[\u001b[0m\u001b[0mv\u001b[0m\u001b[0;34m]\u001b[0m\u001b[0;34m)\u001b[0m\u001b[0;34m:\u001b[0m\u001b[0;34m\u001b[0m\u001b[0;34m\u001b[0m\u001b[0m\n\u001b[1;32m     16\u001b[0m             \u001b[0mf1\u001b[0m \u001b[0;34m=\u001b[0m \u001b[0mvfi\u001b[0m\u001b[0;34m\u001b[0m\u001b[0;34m\u001b[0m\u001b[0m\n\u001b[0;32m---> 17\u001b[0;31m             \u001b[0mf2\u001b[0m \u001b[0;34m=\u001b[0m \u001b[0mTT\u001b[0m\u001b[0;34m[\u001b[0m\u001b[0mf1\u001b[0m\u001b[0;34m,\u001b[0m\u001b[0mVFi\u001b[0m\u001b[0;34m[\u001b[0m\u001b[0mv\u001b[0m\u001b[0;34m,\u001b[0m\u001b[0mi\u001b[0m\u001b[0;34m]\u001b[0m\u001b[0;34m]\u001b[0m\u001b[0;34m\u001b[0m\u001b[0;34m\u001b[0m\u001b[0m\n\u001b[0m\u001b[1;32m     18\u001b[0m             \u001b[0;32mif\u001b[0m \u001b[0mf2\u001b[0m \u001b[0;34m<\u001b[0m \u001b[0;36m0\u001b[0m\u001b[0;34m:\u001b[0m \u001b[0;31m# boundary edges\u001b[0m\u001b[0;34m\u001b[0m\u001b[0;34m\u001b[0m\u001b[0m\n\u001b[1;32m     19\u001b[0m                 \u001b[0;32mcontinue\u001b[0m\u001b[0;34m\u001b[0m\u001b[0;34m\u001b[0m\u001b[0m\n",
      "\u001b[0;31mTypeError\u001b[0m: list indices must be integers or slices, not tuple"
     ]
    }
   ],
   "source": [
    "def principal_curvatures(v,f):\n",
    "    N = igl.per_vertex_normals(v,f)\n",
    "    Nf = igl.per_face_normals(v,f,np.array([1,1,1])/np.linalg.norm(np.array([1,1,1])))\n",
    "    VF, NI = igl.vertex_triangle_adjacency(f, v.shape[0])\n",
    "    VFi = getAdjacentFaces(v,f)\n",
    "    TT, TTi = igl.triangle_triangle_adjacency(f)\n",
    "    A = igl.doublearea(v,f)\n",
    "    kmin = np.zeros((v.shape[0],1))\n",
    "    kmax = np.zeros((v.shape[0],1))\n",
    "    kdmin = np.zeros((v.shape[0],3))\n",
    "    kdmax = np.zeros((v.shape[0],3))\n",
    "    \n",
    "    for v, vi in enumerate(v):\n",
    "        S = np.zeros((3,3))\n",
    "        for i, vfi in enumerate(VFi[v]):\n",
    "            f1 = vfi\n",
    "            f2 = TT[f1,VFi[v,i]]\n",
    "            if f2 < 0: # boundary edges\n",
    "                continue\n",
    "            vn = f[f1,(VFi[v,i] + 1)%3]\n",
    "            e = vi - v[vn]\n",
    "            ne = N[v] + N[vn]\n",
    "            ne /= np.linalg.norm(ne)\n",
    "            n1 = Nf[f1]\n",
    "            n2 = Nf[f2]\n",
    "            h = 2.0 * np.linalg.norm(e) * np.sqrt((1-np.dot(n1,n2))/2)\n",
    "            coeff = 0.5 * np.dot(ne,N[v])\n",
    "            S += (coeff * h * np.cross(e,ne) * np.cross(e,ne)).T\n",
    "            evalue, evector = np.linalg.eig(S)\n",
    "            print(evalue)\n",
    "principal_curvatures(v,f)"
   ]
  },
  {
   "cell_type": "markdown",
   "metadata": {},
   "source": [
    "# Find Regular Triangle"
   ]
  },
  {
   "cell_type": "code",
   "execution_count": 5,
   "metadata": {},
   "outputs": [],
   "source": [
    "def sgn(x):\n",
    "    if x > 0:\n",
    "        return 1\n",
    "    elif x < 0:\n",
    "        return -1\n",
    "    return 0\n",
    "\n",
    "def mark_regular(f,kdmax,kdmin):\n",
    "    singular = []\n",
    "    regular = []\n",
    "    color = []\n",
    "    for indfi, fi in enumerate(f):\n",
    "        sign_min = 1\n",
    "        sign_max = 1\n",
    "        for i in range(1,3):\n",
    "            if np.dot(kdmax[fi[0]],kdmax[fi[i]]) < 0:\n",
    "                kdmax[fi[i]] = - kdmax[fi[i]]\n",
    "            if np.dot(kdmin[fi[0]],kdmin[fi[i]]) < 0:\n",
    "                kdmin[fi[i]] = - kdmin[fi[i]]\n",
    "#         for i in range(3):\n",
    "#             for j in range(i+1,3):\n",
    "#                 sign_min *= np.dot(kdmin[fi[i]],kdmin[fi[j]])\n",
    "#                 sign_max *= np.dot(kdmax[fi[i]],kdmax[fi[j]])\n",
    "#         if sign_min > 0 and sign_max > 0:\n",
    "        if np.dot(kdmax[fi[1]],kdmax[fi[2]]) > 0 and np.dot(kdmin[fi[1]],kdmin[fi[2]]) >0:\n",
    "            regular.append(indfi)\n",
    "            color.append([1,1,1])\n",
    "        else:\n",
    "            singular.append(indfi)\n",
    "            color.append([0.8,0.8,0.8])\n",
    "    return np.array(regular), np.array(singular), np.array(color)\n",
    "\n",
    "regular, singular,color = mark_regular(f,kdmax,kdmin)"
   ]
  },
  {
   "cell_type": "markdown",
   "metadata": {},
   "source": [
    "# Compute Extremalities"
   ]
  },
  {
   "cell_type": "code",
   "execution_count": 37,
   "metadata": {},
   "outputs": [
    {
     "data": {
      "application/vnd.jupyter.widget-view+json": {
       "model_id": "15b8f0b7580e4e47b998765c2201c71b",
       "version_major": 2,
       "version_minor": 0
      },
      "text/plain": [
       "Renderer(camera=PerspectiveCamera(children=(DirectionalLight(color='white', intensity=0.6, position=(0.8809995…"
      ]
     },
     "metadata": {},
     "output_type": "display_data"
    },
    {
     "data": {
      "application/vnd.jupyter.widget-view+json": {
       "model_id": "34a0817a6dfe4268af1f1183d1d2f0cd",
       "version_major": 2,
       "version_minor": 0
      },
      "text/plain": [
       "Renderer(camera=PerspectiveCamera(children=(DirectionalLight(color='white', intensity=0.6, position=(0.8809995…"
      ]
     },
     "metadata": {},
     "output_type": "display_data"
    },
    {
     "data": {
      "text/plain": [
       "<meshplot.Viewer.Viewer at 0x7fc2dd1db280>"
      ]
     },
     "execution_count": 37,
     "metadata": {},
     "output_type": "execute_result"
    }
   ],
   "source": [
    "def extremalities(v, f, k, kd):\n",
    "    EX = np.zeros((v.shape[0],1))\n",
    "    A = igl.doublearea(v,f)\n",
    "    G = igl.grad(v, f) # x_f0,x_f1,x_f2 ... y_f0,y_f1,y_f2 ... z_f0,z_f1,z_f2 ...\n",
    "    grad_k = G * k\n",
    "    neighbour = getAdjacentFaces(v,f) \n",
    "    for indvi, vi in enumerate(v):\n",
    "        area = 0\n",
    "        ex = 0\n",
    "        # vfi: T, indvi: p\n",
    "        for indvfi, vfi in enumerate(neighbour[indvi]):\n",
    "            area += A[vfi] # compute area star\n",
    "        for indvfi, vfi in enumerate(neighbour[indvi]):\n",
    "            g = np.array([grad_k[vfi], grad_k[f.shape[0] + vfi], grad_k[2 * f.shape[0] + vfi]])\n",
    "            ex += A[vfi] * np.dot(g,kd[indvi])\n",
    "        ex /= area\n",
    "        EX[indvi] = ex\n",
    "    return EX\n",
    "\n",
    "EX_max = extremalities(v, f, kmax, kdmax)\n",
    "EX_min = extremalities(v, f, kmin, kdmin)\n",
    "mp.plot(v, f, c=EX_min)\n",
    "mp.plot(v, f, c=EX_max)"
   ]
  },
  {
   "cell_type": "markdown",
   "metadata": {},
   "source": [
    "# Smooth Extremalities"
   ]
  },
  {
   "cell_type": "code",
   "execution_count": 38,
   "metadata": {},
   "outputs": [
    {
     "data": {
      "application/vnd.jupyter.widget-view+json": {
       "model_id": "0070d0107d31423584bec67b056e8ae1",
       "version_major": 2,
       "version_minor": 0
      },
      "text/plain": [
       "Renderer(camera=PerspectiveCamera(children=(DirectionalLight(color='white', intensity=0.6, position=(0.8809995…"
      ]
     },
     "metadata": {},
     "output_type": "display_data"
    },
    {
     "data": {
      "application/vnd.jupyter.widget-view+json": {
       "model_id": "32255b7a291240bb947457b2c5dfd0ba",
       "version_major": 2,
       "version_minor": 0
      },
      "text/plain": [
       "Renderer(camera=PerspectiveCamera(children=(DirectionalLight(color='white', intensity=0.6, position=(0.8809995…"
      ]
     },
     "metadata": {},
     "output_type": "display_data"
    },
    {
     "data": {
      "text/plain": [
       "<meshplot.Viewer.Viewer at 0x7fc2c728e610>"
      ]
     },
     "execution_count": 38,
     "metadata": {},
     "output_type": "execute_result"
    }
   ],
   "source": [
    "def smooth_extremalities(v, f, kd, ex):\n",
    "    A = igl.adjacency_list(f)\n",
    "    L = igl.cotmatrix(v,f)\n",
    "    M = igl.massmatrix(v,f)\n",
    "    L = M.T * L \n",
    "    LEx = np.zeros((v.shape[0],1))\n",
    "    for indvi, vi in enumerate(v):\n",
    "        lp = 0\n",
    "        for vn in A[indvi]:\n",
    "            sign = sgn(np.dot(kd[indvi],kd[vn]))\n",
    "            lp += L[indvi,vn] * (sign * ex[vn] - ex[indvi])\n",
    "        LEx[indvi] = lp\n",
    "    ex += 0.5*LEx\n",
    "    return ex\n",
    "\n",
    "EX_max = smooth_extremalities(v, f, kmax, EX_max)\n",
    "EX_min = smooth_extremalities(v, f, kmin, EX_min)\n",
    "mp.plot(v, f, c=EX_min)\n",
    "mp.plot(v, f, c=EX_max)"
   ]
  },
  {
   "cell_type": "markdown",
   "metadata": {},
   "source": [
    "# Extract Feature Line"
   ]
  },
  {
   "cell_type": "code",
   "execution_count": 39,
   "metadata": {},
   "outputs": [],
   "source": [
    "def extract_feature_line(v, f, kmax, kmin, KD, EX, regular, singular, sign, T):\n",
    "    # for regular faces\n",
    "    fr = np.array([f[index] for index in regular])\n",
    "    TT, TTi = igl.triangle_triangle_adjacency(fr) # id of the adjacent triangle, id of the shared edge\n",
    "    edges = [[],[]]\n",
    "    marked_edges = []\n",
    "    zero_count = [0,0]\n",
    "    zero_point_id = [[],[]]\n",
    "    zero_point_v = [[],[]]\n",
    "    zero_point_k = [[],[]]\n",
    "    \n",
    "#     G_main = igl.grad(v,fr)\n",
    "#     GEX = G_main * EX\n",
    "#     print(GEX.shape)\n",
    "#     print(fr.shape)\n",
    "    # for regular triangles\n",
    "    for indfri, fri in enumerate(fr):\n",
    "        ex = np.array([EX[index] for index in fri]) # each vertex's extremalities on the current triangle\n",
    "        kd = np.array([KD[index] for index in fri]) # each vertex's curvature direction on the current triangle\n",
    "        # flip signs\n",
    "        for i in range(1,3):\n",
    "            if np.dot(kd[0],kd[i]) < 0:\n",
    "                kd[i] = - kd[i]\n",
    "                ex[i] = - ex[i]\n",
    "\n",
    "#         if np.any(ex):\n",
    "#             continue # skip zeros\n",
    "        if ex[ex.argmax()] <= 0.0 or ex[ex.argmin()] >= 0.0:\n",
    "            continue # no zero points\n",
    "        kd_sum = kd.sum(axis=0)\n",
    "        vv = np.array([v[index] for index in fri]) # the vertex on this triangle\n",
    "        G = igl.grad(vv, np.array([[0,1,2]]))\n",
    "        gex = G * ex # trangle based gradient\n",
    "#         print(gex)\n",
    "#         ind = indfri\n",
    "#         gex = np.array([GEX[ind][0],GEX[fr.shape[0] + ind][0],GEX[2 * fr.shape[0] + ind][0]])\n",
    "        # check equation (5)\n",
    "        if sign * np.dot(np.array([kd_sum]),gex) >= 0: \n",
    "#         if sign * np.dot(np.array([gex[0][0],gex[1][0],gex[2][0]]), np.array([kd_sum[0],kd_sum[1],kd_sum[2]])) >= 0: \n",
    "#         if sign * np.dot(gex, np.array([kd_sum[0],kd_sum[1],kd_sum[2]])) >= 0: \n",
    "            continue\n",
    "            \n",
    "        # check equation (6)\n",
    "        kmax_ = np.array([kmax[index] for index in fri])\n",
    "        kmin_ = np.array([kmin[index] for index in fri])\n",
    "        if sign * (abs(kmax_.sum(axis=0)) - abs(kmin_.sum(axis=0))) <= 0:\n",
    "            continue\n",
    "        count = 0\n",
    "        for i in range(3):\n",
    "            j = (i + 1) % 3\n",
    "            if ex[i] * ex[j] <= 0: # has sign change: should have a zero point in the middle\n",
    "                # add mid point\n",
    "                a = abs(ex[i])\n",
    "                b = abs(ex[j])\n",
    "                mid = (b * v[fri[i]] + a * v[fri[j]]) / (a + b)\n",
    "                edges[count].append(mid)\n",
    "                zero_point_id[count].append(zero_count[count])\n",
    "                if sign == 1:\n",
    "                    zero_point_k = (b * kmax[fri[i]] + a * kmax[fri[j]]) / (a + b)\n",
    "                else:\n",
    "                    zero_point_k = (b * kmin[fri[i]] + a * kmin[fri[j]]) / (a + b)\n",
    "                zero_point_v[count].append(mid)\n",
    "                zero_count[count] += 1\n",
    "                # mark edge i, j\n",
    "                marked_edges.append([fri[i],fri[j]])\n",
    "                count = (count + 1)%2\n",
    "         \n",
    "    # for singular triangles           \n",
    "    for indfi, fi in enumerate(singular):\n",
    "        face = f[fi]\n",
    "        marked = []\n",
    "        for es in range(3): # edge start 0-1, 1-2, 2-0\n",
    "            ee = (es + 1) % 3 # edge end\n",
    "            # see whether there are marked edges\n",
    "            if [face[es],face[ee]] in marked_edges or [face[ee],face[es]] in marked_edges:\n",
    "                marked.append([face[es],face[ee]])\n",
    "        if len(marked) < 2:\n",
    "            continue # one marked edge: do nothing\n",
    "        if len(marked) == 2:\n",
    "            for k in range(2):\n",
    "                i = marked[k][0]\n",
    "                j = marked[k][1]\n",
    "                a = abs(EX[i])\n",
    "                b = abs(EX[j])\n",
    "                mid = (b * v[i] + a * v[j]) / (a + b)\n",
    "                edges[k].append(mid)\n",
    "                \n",
    "        if len(marked) == 3:\n",
    "            v0 = v[face][0]\n",
    "            v1 = v[face][1]\n",
    "            v2 = v[face][2]\n",
    "            bc = (v0 + v1 + v2)/3 # barycenter\n",
    "            for k in range(3):\n",
    "                edges[0].append(bc)\n",
    "            for k in range(3):\n",
    "                i = marked[k][0]\n",
    "                j = marked[k][1]\n",
    "                a = abs(EX[i])\n",
    "                b = abs(EX[j])\n",
    "                mid = (b * v[i] + a * v[j]) / (a + b)\n",
    "                edges[1].append(mid)\n",
    "                \n",
    "\n",
    "    # create start points and end points\n",
    "    edges_start = np.zeros((len(edges[0]),3))\n",
    "    edges_end = np.zeros((len(edges[1]),3))\n",
    "    for inde, ei in enumerate(edges[0]):\n",
    "        edges_start[inde] = ei\n",
    "        edges_end[inde] = edges[1][inde]\n",
    "    \n",
    "    return edges_start, edges_end\n",
    "\n",
    "start_max, end_max = extract_feature_line(v,f,kmax,kmin,kdmax,EX_max,regular, singular, 1, 0.1)\n",
    "start_min, end_min = extract_feature_line(v,f,kmax,kmin,kdmin,EX_min,regular, singular, -1, 0.1)"
   ]
  },
  {
   "cell_type": "markdown",
   "metadata": {},
   "source": [
    "# Draw Feature Lines"
   ]
  },
  {
   "cell_type": "code",
   "execution_count": 14,
   "metadata": {},
   "outputs": [
    {
     "data": {
      "application/vnd.jupyter.widget-view+json": {
       "model_id": "6e93e1e0448245d792b8fe855fa1e7d6",
       "version_major": 2,
       "version_minor": 0
      },
      "text/plain": [
       "Renderer(camera=PerspectiveCamera(children=(DirectionalLight(color='white', intensity=0.6, position=(0.8809995…"
      ]
     },
     "metadata": {},
     "output_type": "display_data"
    },
    {
     "data": {
      "text/plain": [
       "2"
      ]
     },
     "execution_count": 14,
     "metadata": {},
     "output_type": "execute_result"
    }
   ],
   "source": [
    "p = mp.plot(v, f, c=color)\n",
    "p.add_lines(start_max, end_max, shading={\"line_color\": \"red\"})\n",
    "p.add_lines(start_min, end_min, shading={\"line_color\": \"blue\"})"
   ]
  },
  {
   "cell_type": "code",
   "execution_count": 40,
   "metadata": {},
   "outputs": [
    {
     "data": {
      "application/vnd.jupyter.widget-view+json": {
       "model_id": "3942ae87daa346ceb632ca2f9eadfbf0",
       "version_major": 2,
       "version_minor": 0
      },
      "text/plain": [
       "Renderer(camera=PerspectiveCamera(children=(DirectionalLight(color='white', intensity=0.6, position=(0.8809995…"
      ]
     },
     "metadata": {},
     "output_type": "display_data"
    },
    {
     "data": {
      "text/plain": [
       "2"
      ]
     },
     "execution_count": 40,
     "metadata": {},
     "output_type": "execute_result"
    }
   ],
   "source": [
    "p = mp.plot(v, f, c=color)\n",
    "p.add_lines(start_max, end_max, shading={\"line_color\": \"red\"})\n",
    "p.add_lines(start_min, end_min, shading={\"line_color\": \"blue\"})"
   ]
  },
  {
   "cell_type": "markdown",
   "metadata": {},
   "source": [
    "# Smooth Feature Lines"
   ]
  },
  {
   "cell_type": "code",
   "execution_count": 41,
   "metadata": {},
   "outputs": [
    {
     "name": "stdout",
     "output_type": "stream",
     "text": [
      "[[-26.42611593  -4.9308257    3.64924252]\n",
      " [-26.50616894  -5.32679301   3.36945107]\n",
      " [-26.50616894  -5.32679301   3.36945107]\n",
      " ...\n",
      " [ -5.42223     -0.32419867   9.74687667]\n",
      " [ -5.42223     -0.32419867   9.74687667]\n",
      " [ 26.95710988  -3.81600916  11.04237902]]\n"
     ]
    }
   ],
   "source": [
    "print(start_max)"
   ]
  },
  {
   "cell_type": "code",
   "execution_count": 42,
   "metadata": {},
   "outputs": [
    {
     "name": "stdout",
     "output_type": "stream",
     "text": [
      "[[-26.37453576  -5.12445443   3.561743  ]\n",
      " [-26.50826379  -5.33355582   3.36233671]\n",
      " [-26.37453576  -5.12445443   3.561743  ]\n",
      " ...\n",
      " [ -5.78616523  -0.20145839   9.642032  ]\n",
      " [ -5.73508344  -0.27451032   9.66882385]\n",
      " [ 26.94751918  -3.83559626  11.04091753]]\n"
     ]
    }
   ],
   "source": [
    "print(end_max)"
   ]
  },
  {
   "cell_type": "code",
   "execution_count": null,
   "metadata": {},
   "outputs": [],
   "source": []
  }
 ],
 "metadata": {
  "kernelspec": {
   "display_name": "Python 3",
   "language": "python",
   "name": "python3"
  },
  "language_info": {
   "codemirror_mode": {
    "name": "ipython",
    "version": 3
   },
   "file_extension": ".py",
   "mimetype": "text/x-python",
   "name": "python",
   "nbconvert_exporter": "python",
   "pygments_lexer": "ipython3",
   "version": "3.8.5"
  }
 },
 "nbformat": 4,
 "nbformat_minor": 4
}
