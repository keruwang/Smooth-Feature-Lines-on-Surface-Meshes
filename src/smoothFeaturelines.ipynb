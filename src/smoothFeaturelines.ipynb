{
 "cells": [
  {
   "cell_type": "code",
   "execution_count": 2,
   "metadata": {
    "scrolled": true
   },
   "outputs": [],
   "source": [
    "import numpy as np\n",
    "import igl\n",
    "import meshplot as mp\n",
    "import math\n",
    "import scipy.sparse as sp\n",
    "from numpy import matlib as mb\n",
    "from math import sqrt"
   ]
  },
  {
   "cell_type": "markdown",
   "metadata": {},
   "source": [
    "# Load Data"
   ]
  },
  {
   "cell_type": "code",
   "execution_count": 247,
   "metadata": {},
   "outputs": [
    {
     "data": {
      "application/vnd.jupyter.widget-view+json": {
       "model_id": "bcb7ecafda834dfebb4330925be942ba",
       "version_major": 2,
       "version_minor": 0
      },
      "text/plain": [
       "Renderer(camera=PerspectiveCamera(children=(DirectionalLight(color='white', intensity=0.6, position=(1.9967555…"
      ]
     },
     "metadata": {},
     "output_type": "display_data"
    },
    {
     "data": {
      "application/vnd.jupyter.widget-view+json": {
       "model_id": "c14c00af15104b57b6dc41da6b4e50bf",
       "version_major": 2,
       "version_minor": 0
      },
      "text/plain": [
       "Renderer(camera=PerspectiveCamera(children=(DirectionalLight(color='white', intensity=0.6, position=(1.9967555…"
      ]
     },
     "metadata": {},
     "output_type": "display_data"
    },
    {
     "data": {
      "text/plain": [
       "<meshplot.Viewer.Viewer at 0x7fdc714bb190>"
      ]
     },
     "execution_count": 247,
     "metadata": {},
     "output_type": "execute_result"
    }
   ],
   "source": [
    "v, f = igl.read_triangle_mesh('../data/camel_head.off')\n",
    "\n",
    "kdmin, kdmax, kmin, kmax = igl.principal_curvature(v,f)  \n",
    "kdmax /= np.linalg.norm(kdmax)\n",
    "kdmin /= np.linalg.norm(kdmin)\n",
    "# mp.plot(v, f, c=kmin)\n",
    "# mp.plot(v, f, c=kmax)"
   ]
  },
  {
   "cell_type": "code",
   "execution_count": 194,
   "metadata": {},
   "outputs": [],
   "source": [
    "def getAdjacentFaces(v,f):\n",
    "    VF, NI = igl.vertex_triangle_adjacency(f, v.shape[0])\n",
    "    VFi = []\n",
    "    for i in range(NI.shape[0] - 1):\n",
    "        VFii = []\n",
    "        jj = NI[i + 1] - NI[i]\n",
    "        for j in range(jj):\n",
    "            VFii.append(VF[NI[i] + j])\n",
    "        VFi.append(VFii)\n",
    "    return VFi"
   ]
  },
  {
   "cell_type": "markdown",
   "metadata": {},
   "source": [
    "# Find Regular Triangle"
   ]
  },
  {
   "cell_type": "code",
   "execution_count": 248,
   "metadata": {},
   "outputs": [],
   "source": [
    "def sgn(x):\n",
    "    if x > 0:\n",
    "        return 1\n",
    "    elif x < 0:\n",
    "        return -1\n",
    "    return 0\n",
    "\n",
    "def mark_regular(f,kdmax,kdmin):\n",
    "    singular = []\n",
    "    regular = []\n",
    "    color = []\n",
    "    for indfi, fi in enumerate(f):\n",
    "        sign_min = 1\n",
    "        sign_max = 1\n",
    "        for i in range(1,3):\n",
    "            if np.dot(kdmax[fi[0]],kdmax[fi[i]]) < 0:\n",
    "                kdmax[fi[i]] = - kdmax[fi[i]]\n",
    "            if np.dot(kdmin[fi[0]],kdmin[fi[i]]) < 0:\n",
    "                kdmin[fi[i]] = - kdmin[fi[i]]\n",
    "        if np.dot(kdmax[fi[1]],kdmax[fi[2]]) > 0 and np.dot(kdmin[fi[1]],kdmin[fi[2]]) >0:\n",
    "            regular.append(indfi)\n",
    "            color.append([1,1,1])\n",
    "        else:\n",
    "            singular.append(indfi)\n",
    "            color.append([0.8,0.8,0.8])\n",
    "    return np.array(regular), np.array(singular), np.array(color)\n",
    "\n",
    "regular, singular,color = mark_regular(f,kdmax,kdmin)"
   ]
  },
  {
   "cell_type": "markdown",
   "metadata": {},
   "source": [
    "# Compute Extremalities"
   ]
  },
  {
   "cell_type": "code",
   "execution_count": 249,
   "metadata": {},
   "outputs": [],
   "source": [
    "def extremalities(v, f, k, kd):\n",
    "    EX = np.zeros((v.shape[0],1))\n",
    "    A = igl.doublearea(v,f)\n",
    "    G = igl.grad(v, f)\n",
    "    grad_k = G * k\n",
    "    neighbour = getAdjacentFaces(v,f) \n",
    "    for indvi, vi in enumerate(v):\n",
    "        area = 0\n",
    "        ex = 0\n",
    "        # vfi: T, indvi: p\n",
    "        for indvfi, vfi in enumerate(neighbour[indvi]):\n",
    "            area += A[vfi] # compute area star\n",
    "        for indvfi, vfi in enumerate(neighbour[indvi]):\n",
    "            g = np.array([grad_k[vfi], grad_k[f.shape[0] + vfi], grad_k[2 * f.shape[0] + vfi]])\n",
    "            ex += A[vfi] * np.dot(g,kd[indvi])\n",
    "        ex /= area\n",
    "        EX[indvi] = ex\n",
    "    return EX\n",
    "\n",
    "EX_max = extremalities(v, f, kmax, kdmax)\n",
    "EX_min = extremalities(v, f, kmin, kdmin)"
   ]
  },
  {
   "cell_type": "markdown",
   "metadata": {},
   "source": [
    "# Smooth Extremalities for 10 Rounds"
   ]
  },
  {
   "cell_type": "code",
   "execution_count": 207,
   "metadata": {},
   "outputs": [],
   "source": [
    "def smooth_extremalities(v, f, k, kd, ex):\n",
    "    A = igl.adjacency_list(f)\n",
    "    L = igl.cotmatrix(v,f)\n",
    "#     M = igl.massmatrix(v,f)\n",
    "#     L = M.T * L \n",
    "    LEx = np.zeros((v.shape[0],1))\n",
    "    for indvi, vi in enumerate(v):\n",
    "        lp = 0\n",
    "        for vn in A[indvi]:\n",
    "            sign = sgn(np.dot(kd[indvi],kd[vn]))\n",
    "            lp += L[indvi,vn] * (sign * ex[vn] - ex[indvi])\n",
    "        LEx[indvi] = lp\n",
    "    ex += 0.02 * LEx\n",
    "    return ex\n",
    "for i in range(10): # smooth for 10 rounds\n",
    "    EX_max = smooth_extremalities(v, f, kmax, kdmax, EX_max)\n",
    "    EX_min = smooth_extremalities(v, f, kmin, kdmin, EX_min)"
   ]
  },
  {
   "cell_type": "markdown",
   "metadata": {},
   "source": [
    "# Extract Feature Line"
   ]
  },
  {
   "cell_type": "code",
   "execution_count": 250,
   "metadata": {},
   "outputs": [],
   "source": [
    "def extract_feature_line(v, f, kmax, kmin, KD, EX, regular, singular, sign, T):\n",
    "    # for regular faces\n",
    "    fr = np.array([f[index] for index in regular])\n",
    "    TT, TTi = igl.triangle_triangle_adjacency(fr) # id of the adjacent triangle, id of the shared edge\n",
    "    marked_edges = []\n",
    "    zero_point_v = []\n",
    "    zero_point_k = []\n",
    "    zero_edges_ind = [[],[]]\n",
    "    zero_edges = [[],[]]\n",
    "    \n",
    "    # for regular triangles\n",
    "    for indfri, fri in enumerate(fr):\n",
    "        ex = np.array([EX[index] for index in fri]) # each vertex's extremalities on the current triangle\n",
    "        kd = np.array([KD[index] for index in fri]) # each vertex's curvature direction on the current triangle\n",
    "        # flip signs\n",
    "        for i in range(1,3):\n",
    "            if np.dot(kd[0],kd[i]) < 0:\n",
    "                kd[i] = - kd[i]\n",
    "                ex[i] = - ex[i]\n",
    "\n",
    "        if ex[ex.argmax()] <= 0.0 or ex[ex.argmin()] >= 0.0:\n",
    "            continue # no zero points\n",
    "        kd_sum = kd.sum(axis=0)\n",
    "        vv = np.array([v[index] for index in fri]) # the vertex on this triangle\n",
    "        G = igl.grad(vv, np.array([[0,1,2]]))\n",
    "        gex = G * ex # trangle based gradient\n",
    "        \n",
    "        # check equation (5)\n",
    "        if sign * np.dot(np.array([kd_sum]),gex) >= 0: \n",
    "            continue\n",
    "            \n",
    "        # check equation (6)\n",
    "        kmax_ = np.array([kmax[index] for index in fri])\n",
    "        kmin_ = np.array([kmin[index] for index in fri])\n",
    "        if sign * (abs(kmax_.sum(axis=0)) - abs(kmin_.sum(axis=0))) <= 0:\n",
    "            continue\n",
    "            \n",
    "        count = 0\n",
    "        for i in range(3):\n",
    "            j = (i + 1) % 3\n",
    "            if ex[i] * ex[j] <= 0: # has sign change: should have a zero point in the middle\n",
    "                # add mid point\n",
    "                a = abs(ex[i])\n",
    "                b = abs(ex[j])\n",
    "                mid = (b * v[fri[i]] + a * v[fri[j]]) / (a + b)\n",
    "                \n",
    "                if [mid[0],mid[1],mid[2]] not in zero_point_v:\n",
    "                    zero_point_v.append([mid[0],mid[1],mid[2]])\n",
    "                    ind = len(zero_point_v) -1\n",
    "                    if sign == 1:\n",
    "                        zero_point_k.append((b * kmax[fri[i]] + a * kmax[fri[j]]) / (a + b))\n",
    "                    else:\n",
    "                        zero_point_k.append((b * kmin[fri[i]] + a * kmin[fri[j]]) / (a + b))\n",
    "                else:\n",
    "                    ind = zero_point_v.index([mid[0],mid[1],mid[2]])\n",
    "                zero_edges_ind[count].append(ind)\n",
    "                zero_edges[count].append(mid)\n",
    "                # mark edge i, j\n",
    "                marked_edges.append([fri[i],fri[j]])\n",
    "                count = (count + 1)%2\n",
    "         \n",
    "    # for singular triangles           \n",
    "    for indfi, fi in enumerate(singular):\n",
    "        face = f[fi]\n",
    "        marked = []\n",
    "        for es in range(3): # edge start 0-1, 1-2, 2-0\n",
    "            ee = (es + 1) % 3 # edge end\n",
    "            # see whether there are marked edges\n",
    "            if [face[es],face[ee]] in marked_edges or [face[ee],face[es]] in marked_edges:\n",
    "                marked.append([face[es],face[ee]])\n",
    "        if len(marked) < 2:\n",
    "            continue # one marked edge: do nothing\n",
    "        if len(marked) == 2:\n",
    "            for k in range(2):\n",
    "                i = marked[k][0]\n",
    "                j = marked[k][1]\n",
    "                a = abs(EX[i])\n",
    "                b = abs(EX[j])\n",
    "                mid = (b * v[i] + a * v[j]) / (a + b)\n",
    "                if [mid[0],mid[1],mid[2]] not in zero_point_v:\n",
    "                    zero_point_v.append([mid[0],mid[1],mid[2]])\n",
    "                    ind = len(zero_point_v) -1\n",
    "                    if sign == 1:\n",
    "                        zero_point_k.append((b * kmax[fri[i]] + a * kmax[fri[j]]) / (a + b))\n",
    "                    else:\n",
    "                        zero_point_k.append((b * kmin[fri[i]] + a * kmin[fri[j]]) / (a + b))\n",
    "                else:\n",
    "                    ind = zero_point_v.index([mid[0],mid[1],mid[2]])\n",
    "                zero_edges_ind[k].append(ind)\n",
    "                zero_edges[k].append(mid)\n",
    "                \n",
    "        if len(marked) == 3:\n",
    "            v0 = v[face][0]\n",
    "            v1 = v[face][1]\n",
    "            v2 = v[face][2]\n",
    "            bc = (v0 + v1 + v2)/3 # barycenter\n",
    "            if sign == 1:\n",
    "                k_temp = (kmax[face[0]] + kmax[face[1]] + kmax[face[2]]) / 3\n",
    "            else:\n",
    "                k_temp = (kmin[face[0]] + kmin[face[1]] + kmin[face[2]]) / 3\n",
    "            \n",
    "            for k in range(3):\n",
    "                zero_point_k.append(k_temp)\n",
    "                zero_edges_ind[1].append(ind)\n",
    "                zero_edges[1].append(bc)\n",
    "            for k in range(3):\n",
    "                i = marked[k][0]\n",
    "                j = marked[k][1]\n",
    "                a = abs(EX[i])\n",
    "                b = abs(EX[j])\n",
    "                mid = (b * v[i] + a * v[j]) / (a + b)\n",
    "                if [mid[0],mid[1],mid[2]] not in zero_point_v:\n",
    "                    zero_point_v.append([mid[0],mid[1],mid[2]])\n",
    "                    ind = len(zero_point_v) -1\n",
    "                    if sign == 1:\n",
    "                        zero_point_k.append((b * kmax[fri[i]] + a * kmax[fri[j]]) / (a + b))\n",
    "                    else:\n",
    "                        zero_point_k.append((b * kmin[fri[i]] + a * kmin[fri[j]]) / (a + b))\n",
    "                else:\n",
    "                    ind = zero_point_v.index([mid[0],mid[1],mid[2]])\n",
    "                zero_edges_ind[1].append(ind)\n",
    "                zero_edges[1].append(mid)\n",
    "                \n",
    "\n",
    "    # Remove small ridges by a threshold filter\n",
    "    visited = [np.zeros(len(zero_edges_ind[0])),np.zeros(len(zero_edges_ind[1]))]\n",
    "    lines = [[],[]]\n",
    "    while 0 in visited[0] or 0 in visited[1]: # there are still unvisited edges\n",
    "        temp_line = [[],[]]\n",
    "        itg_k = 0 # the trapezoid approximation of the integral\n",
    "        # pick a point to start\n",
    "        zv_count = 0\n",
    "        if 0 in visited[0]:\n",
    "            ind_cur = np.where(visited[0]==0)[0][0]\n",
    "            which_end = 0\n",
    "        else:\n",
    "            ind_cur = np.where(visited[1]==0)[0][0]\n",
    "            which_end = 1\n",
    "            \n",
    "        notEnd = True\n",
    "        temp_line[0].append(zero_edges[0][ind_cur]) \n",
    "        temp_line[1].append(zero_edges[1][ind_cur])\n",
    "        visited[0][ind_cur] = 1\n",
    "        visited[1][ind_cur] = 1\n",
    "        ind_a = zero_edges_ind[0][ind_cur]\n",
    "        ind_b = zero_edges_ind[1][ind_cur]\n",
    "        itg_k += 0.5 * (zero_point_k[ind_a] + zero_point_k[ind_a])*np.linalg.norm(zero_edges[0][ind_cur] - zero_edges[1][ind_cur])\n",
    "        # trace along the line\n",
    "        while notEnd:\n",
    "            if zero_edges_ind[(which_end + 1)%2][ind_cur] in zero_edges_ind[which_end]:\n",
    "                ind_cur = zero_edges_ind[which_end].index(zero_edges_ind[(which_end + 1)%2][ind_cur])\n",
    "                temp_line[0].append(zero_edges[0][ind_cur]) \n",
    "                temp_line[1].append(zero_edges[1][ind_cur]) \n",
    "                visited[0][ind_cur] = 1\n",
    "                visited[1][ind_cur] = 1\n",
    "                ind_a = zero_edges_ind[0][ind_cur]\n",
    "                ind_b = zero_edges_ind[1][ind_cur]\n",
    "                itg_k += 0.5 * (zero_point_k[ind_a] + zero_point_k[ind_a])*np.linalg.norm(zero_edges[0][ind_cur] - zero_edges[1][ind_cur])\n",
    "            elif np.where(np.array(zero_edges_ind[(which_end + 1)%2])==zero_edges_ind[(which_end + 1)%2][ind_cur])[0].shape[0] > 1:\n",
    "                for i in np.where(np.array(zero_edges_ind[(which_end + 1)%2])==zero_edges_ind[(which_end + 1)%2][ind_cur])[0]:\n",
    "                    if i != ind_cur:\n",
    "                        ind_cur = i\n",
    "                        which_end = (which_end + 1)%2\n",
    "                        temp_line[0].append(zero_edges[0][ind_cur]) \n",
    "                        temp_line[1].append(zero_edges[1][ind_cur]) \n",
    "                        visited[0][ind_cur] = 1\n",
    "                        visited[1][ind_cur] = 1\n",
    "                        ind_a = zero_edges_ind[0][ind_cur]\n",
    "                        ind_b = zero_edges_ind[1][ind_cur]\n",
    "                        itg_k += 0.5 * (zero_point_k[ind_a] + zero_point_k[ind_a])*np.linalg.norm(zero_edges[0][ind_cur] - zero_edges[1][ind_cur])\n",
    "                        break\n",
    "\n",
    "            else:\n",
    "                notEnd = False\n",
    "        if sign * itg_k > T:\n",
    "            for indzv, zvi in enumerate(temp_line[0]):\n",
    "                lines[0].append(zvi)\n",
    "                lines[1].append(temp_line[1][indzv])\n",
    "\n",
    "    return np.array(lines)\n",
    "\n",
    "lines_max = extract_feature_line(v,f,kmax,kmin,kdmax,EX_max,regular, singular, 1, 0.8)\n",
    "lines_min = extract_feature_line(v,f,kmax,kmin,kdmin,EX_min,regular, singular, -1, 0.8)"
   ]
  },
  {
   "cell_type": "markdown",
   "metadata": {},
   "source": [
    "# Draw Feature Lines"
   ]
  },
  {
   "cell_type": "code",
   "execution_count": 251,
   "metadata": {},
   "outputs": [
    {
     "data": {
      "application/vnd.jupyter.widget-view+json": {
       "model_id": "192036fada434847b01b1fc43f0d4dcd",
       "version_major": 2,
       "version_minor": 0
      },
      "text/plain": [
       "Renderer(camera=PerspectiveCamera(children=(DirectionalLight(color='white', intensity=0.6, position=(1.9967555…"
      ]
     },
     "metadata": {},
     "output_type": "display_data"
    },
    {
     "data": {
      "text/plain": [
       "2"
      ]
     },
     "execution_count": 251,
     "metadata": {},
     "output_type": "execute_result"
    }
   ],
   "source": [
    "p = mp.plot(v, f, c=color)\n",
    "p.add_lines(lines_max[0], lines_max[1], shading={\"line_color\": \"red\"})\n",
    "p.add_lines(lines_min[0], lines_min[1], shading={\"line_color\": \"blue\"})"
   ]
  }
 ],
 "metadata": {
  "kernelspec": {
   "display_name": "Python 3",
   "language": "python",
   "name": "python3"
  },
  "language_info": {
   "codemirror_mode": {
    "name": "ipython",
    "version": 3
   },
   "file_extension": ".py",
   "mimetype": "text/x-python",
   "name": "python",
   "nbconvert_exporter": "python",
   "pygments_lexer": "ipython3",
   "version": "3.8.5"
  }
 },
 "nbformat": 4,
 "nbformat_minor": 4
}
