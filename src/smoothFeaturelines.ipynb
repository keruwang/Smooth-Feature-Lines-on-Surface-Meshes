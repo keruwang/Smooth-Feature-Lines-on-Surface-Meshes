{
 "cells": [
  {
   "cell_type": "code",
   "execution_count": 1,
   "metadata": {
    "scrolled": true
   },
   "outputs": [],
   "source": [
    "import numpy as np\n",
    "import igl\n",
    "import meshplot as mp\n",
    "import math\n",
    "import scipy.sparse as sp\n",
    "from numpy import matlib as mb\n",
    "from math import sqrt"
   ]
  },
  {
   "cell_type": "markdown",
   "metadata": {},
   "source": [
    "# Load Data"
   ]
  },
  {
   "cell_type": "code",
   "execution_count": 51,
   "metadata": {},
   "outputs": [
    {
     "data": {
      "application/vnd.jupyter.widget-view+json": {
       "model_id": "5ee2dbea715b4884b081630a0d64535c",
       "version_major": 2,
       "version_minor": 0
      },
      "text/plain": [
       "Renderer(camera=PerspectiveCamera(children=(DirectionalLight(color='white', intensity=0.6, position=(0.8809995…"
      ]
     },
     "metadata": {},
     "output_type": "display_data"
    },
    {
     "data": {
      "text/plain": [
       "<meshplot.Viewer.Viewer at 0x7fb9d6e2a730>"
      ]
     },
     "execution_count": 51,
     "metadata": {},
     "output_type": "execute_result"
    }
   ],
   "source": [
    "v, f = igl.read_triangle_mesh('../data/hand.off')\n",
    "\n",
    "kdmax, kdmin, kmax, kmin = igl.principal_curvature(v,f)  \n",
    "kdmax /= np.linalg.norm(kdmax)\n",
    "kdmin /= np.linalg.norm(kdmin)\n",
    "mp.plot(v, f, c=kmax)"
   ]
  },
  {
   "cell_type": "code",
   "execution_count": 52,
   "metadata": {},
   "outputs": [],
   "source": [
    "def getAdjacentFaces(v,f):\n",
    "    VF, NI = igl.vertex_triangle_adjacency(f, v.shape[0])\n",
    "    VFi = []\n",
    "    for i in range(NI.shape[0] - 1):\n",
    "        VFii = []\n",
    "        jj = NI[i + 1] - NI[i]\n",
    "        for j in range(jj):\n",
    "            VFii.append(VF[NI[i] + j])\n",
    "        VFi.append(VFii)\n",
    "    return VFi"
   ]
  },
  {
   "cell_type": "markdown",
   "metadata": {},
   "source": [
    "# Find Regular Triangle"
   ]
  },
  {
   "cell_type": "code",
   "execution_count": 53,
   "metadata": {},
   "outputs": [
    {
     "name": "stdout",
     "output_type": "stream",
     "text": [
      "[    4     6    23    27    89   126   130   158   588   592   593   595\n",
      "   929  1028  1152  1172  1173  1249  1622  2159  2180  2261  2442  2445\n",
      "  2447  2736  2737  2739  3056  3078  3084  3086  3525  3755  3781  4046\n",
      "  4141  4156  4557  4562  4696  5057  5213  5501  5603  6330  6829  7133\n",
      "  7305  7862  9017  9144  9147  9730  9961 10001 10627 10987 11404 11578\n",
      " 11591 11617 11645 11736 11886 12826 12939 13247 14327 14985 15010 15613\n",
      " 15638 15883 16425 16428 16631 16641 17403 17842 17877 18352 19980 25368\n",
      " 25369 25371 25784 25787 26221 26736 26739 26896 26899 27089 27091 27120\n",
      " 27121 27123 27184 27193 27195 27204 27293 27677 27679 27800 27912 27913\n",
      " 27915 28008 28011 28189 28248 28372 28373 28375 28464 28465 28467 28568]\n"
     ]
    }
   ],
   "source": [
    "def sgn(x):\n",
    "    if x > 0:\n",
    "        return 1\n",
    "    elif x < 0:\n",
    "        return -1\n",
    "    return 0\n",
    "\n",
    "def mark_regular(f,kdmax,kdmin):\n",
    "    singular = []\n",
    "    regular = []\n",
    "    color = []\n",
    "    for indfi, fi in enumerate(f):\n",
    "        sign_min = 1\n",
    "        sign_max = 1\n",
    "        for i in range(3):\n",
    "            for j in range(i+1,3):\n",
    "                sign_min *= np.dot(kdmin[fi[i]],kdmin[fi[j]])\n",
    "                sign_max *= np.dot(kdmax[fi[i]],kdmax[fi[j]])\n",
    "        if sign_min > 0 and sign_max > 0:\n",
    "            regular.append(indfi)\n",
    "            color.append([1,1,1])\n",
    "        else:\n",
    "            singular.append(indfi)\n",
    "            color.append([1,0,0])\n",
    "    return np.array(regular), np.array(singular), np.array(color)\n",
    "\n",
    "regular, singular,color = mark_regular(f,kdmax,kdmin)\n",
    "print(singular)"
   ]
  },
  {
   "cell_type": "markdown",
   "metadata": {},
   "source": [
    "# Compute Extremalities"
   ]
  },
  {
   "cell_type": "code",
   "execution_count": 54,
   "metadata": {},
   "outputs": [
    {
     "data": {
      "application/vnd.jupyter.widget-view+json": {
       "model_id": "13e55ab0b2174eefae1db357a1a495ab",
       "version_major": 2,
       "version_minor": 0
      },
      "text/plain": [
       "Renderer(camera=PerspectiveCamera(children=(DirectionalLight(color='white', intensity=0.6, position=(0.8809995…"
      ]
     },
     "metadata": {},
     "output_type": "display_data"
    },
    {
     "data": {
      "application/vnd.jupyter.widget-view+json": {
       "model_id": "e819c6314eed43f497c91289817d7714",
       "version_major": 2,
       "version_minor": 0
      },
      "text/plain": [
       "Renderer(camera=PerspectiveCamera(children=(DirectionalLight(color='white', intensity=0.6, position=(0.8809995…"
      ]
     },
     "metadata": {},
     "output_type": "display_data"
    },
    {
     "data": {
      "text/plain": [
       "<meshplot.Viewer.Viewer at 0x7fb9d593c7f0>"
      ]
     },
     "execution_count": 54,
     "metadata": {},
     "output_type": "execute_result"
    }
   ],
   "source": [
    "def extremalities(v, f, k, kd):\n",
    "    EX = np.zeros((v.shape[0],1))\n",
    "    A = igl.doublearea(v,f)\n",
    "    G = igl.grad(v, f)\n",
    "    grad_k = G * k\n",
    "    neighbour = getAdjacentFaces(v,f) \n",
    "    for indvi, vi in enumerate(v):\n",
    "        area = 0\n",
    "        ex = 0\n",
    "        for vfi in neighbour[indvi]:\n",
    "            area += A[vfi] # compute area star\n",
    "        for indvfi, vfi in enumerate(neighbour[indvi]):\n",
    "            g = np.array([grad_k[vfi], grad_k[f.shape[0] + vfi], grad_k[2 * f.shape[0] + vfi]])\n",
    "            ex += A[vfi] * np.dot(g,kd[indvi])\n",
    "        ex /= area\n",
    "        EX[indvi] = ex\n",
    "    return EX\n",
    "\n",
    "EX_max = extremalities(v, f, kmax, kdmax)\n",
    "EX_min = extremalities(v, f, kmin, kdmin)\n",
    "mp.plot(v, f, c=EX_min)\n",
    "mp.plot(v, f, c=EX_max)"
   ]
  },
  {
   "cell_type": "markdown",
   "metadata": {},
   "source": [
    "# Smooth Extremalities"
   ]
  },
  {
   "cell_type": "code",
   "execution_count": 55,
   "metadata": {},
   "outputs": [
    {
     "data": {
      "application/vnd.jupyter.widget-view+json": {
       "model_id": "0e3ca72da3004e719b874eec73659ba3",
       "version_major": 2,
       "version_minor": 0
      },
      "text/plain": [
       "Renderer(camera=PerspectiveCamera(children=(DirectionalLight(color='white', intensity=0.6, position=(0.8809995…"
      ]
     },
     "metadata": {},
     "output_type": "display_data"
    },
    {
     "data": {
      "text/plain": [
       "<meshplot.Viewer.Viewer at 0x7fb9d8601100>"
      ]
     },
     "execution_count": 55,
     "metadata": {},
     "output_type": "execute_result"
    }
   ],
   "source": [
    "def smooth_extremalities(v, f, kd, ex):\n",
    "    A = igl.adjacency_list(f)\n",
    "    L = igl.cotmatrix(v,f)\n",
    "    M = igl.massmatrix(v,f)\n",
    "    L = M.T * L\n",
    "    LEx = np.zeros((v.shape[0],1))\n",
    "    for indvi, vi in enumerate(v):\n",
    "        lp = 0\n",
    "        for vn in A[indvi]:\n",
    "            sign = sgn(np.dot(kd[indvi],kd[vn]))\n",
    "            lp += L[indvi,vn] * (sign * ex[vn] - ex[indvi])\n",
    "        LEx[indvi] = lp\n",
    "    ex += LEx\n",
    "    return ex\n",
    "\n",
    "EX_max = smooth_extremalities(v, f, kdmax, EX_max)\n",
    "EX_min = smooth_extremalities(v, f, kdmin, EX_min)\n",
    "mp.plot(v, f, c=EX_min)"
   ]
  },
  {
   "cell_type": "markdown",
   "metadata": {},
   "source": [
    "# Extract Feature Line"
   ]
  },
  {
   "cell_type": "code",
   "execution_count": 71,
   "metadata": {},
   "outputs": [],
   "source": [
    "def extract_feature_line(v, f, kmax, kmin, KD, EX, regular, singular, sign):\n",
    "    # for regular faces\n",
    "    fr = np.array([f[index] for index in regular])\n",
    "    TT, TTi = igl.triangle_triangle_adjacency(fr) # id of the adjacent triangle, id of the shared edge\n",
    "    edges = [[],[]]\n",
    "    marked_edges = []\n",
    "#     G_main = igl.grad(v,fr)\n",
    "#     GEX = G_main * EX\n",
    "    count = 0\n",
    "#     print(GEX.shape)\n",
    "#     print(fr.shape)\n",
    "    # for regular triangles\n",
    "    for indfri, fri in enumerate(fr):\n",
    "        ex = np.array([EX[index] for index in fri]) # each vertex's extremalities on the current triangle\n",
    "        kd = np.array([KD[index] for index in fri]) # each vertex's curvature direction on the current triangle\n",
    "        # flip signs\n",
    "        change = False\n",
    "        for i in range(1,3):\n",
    "            if np.dot(kd[0],kd[i]) >= 0:\n",
    "                kd[i] = -kd[i]\n",
    "                change = True\n",
    "            else:\n",
    "                ex[i] = -ex[i]\n",
    "        if change:\n",
    "            kd[0] = -kd[0]\n",
    "#         if ((ex.array() == 0.0).any())\n",
    "# \t\t\tcontinue; // skip zeros\n",
    "# \t\tif (ex.maxCoeff() <= 0.0 || ex.minCoeff() >= 0.0)\n",
    "# \t\t\tcontinue; // no zero points\n",
    "        kd_sum = kd.sum(axis=0)\n",
    "        vv = np.array([v[index] for index in fri]) # the vertex on this triangle\n",
    "        G = igl.grad(vv, np.array([[0,1,2]]))\n",
    "        gex = G * ex # trangle based gradient\n",
    "#         print(gex)\n",
    "#         ind = indfri\n",
    "#         gex = np.array([GEX[ind][0],GEX[fr.shape[0] + ind][0],GEX[2 * fr.shape[0] + ind][0]])\n",
    "        # check equation (5)\n",
    "        if sign * np.dot(np.array([kd_sum]),gex) >= 0: \n",
    "#         if sign * np.dot(np.array([gex[0][0],gex[1][0],gex[2][0]]), np.array([kd_sum[0],kd_sum[1],kd_sum[2]])) >= 0: \n",
    "#         if sign * np.dot(gex, np.array([kd_sum[0],kd_sum[1],kd_sum[2]])) >= 0: \n",
    "            continue\n",
    "            \n",
    "        # check equation (6)\n",
    "        kmax_ = np.array([kmax[index] for index in fri])\n",
    "        kmin_ = np.array([kmin[index] for index in fri])\n",
    "        if sign * (abs(kmax_.sum(axis=0)) - abs(kmin_.sum(axis=0))) <= 0:\n",
    "            continue\n",
    "        count = 0\n",
    "        for i in range(3):\n",
    "            j = (i + 1) % 3\n",
    "            if ex[i] * ex[j] < 0: # has sign change: should have a zero point in the middle\n",
    "                # add mid point\n",
    "                a = abs(ex[i])\n",
    "                b = abs(ex[j])\n",
    "                mid = (b * v[fri[i]] + a * v[fri[j]]) / (a + b)\n",
    "                edges[count].append(mid)\n",
    "                # mark edge i, j\n",
    "                marked_edges.append([fri[i],fri[j]])\n",
    "                count = (count + 1)%2\n",
    "                \n",
    "    # for singular triangles           \n",
    "#     for indfi, fi in enumerate(singular):\n",
    "#         marked = []\n",
    "#         for es in range(3):\n",
    "#             ee = (es + 1) % 3\n",
    "#             search = \n",
    "\n",
    "    # create start points and end points\n",
    "    edges_start = np.zeros((len(edges[0]),3))\n",
    "    edges_end = np.zeros((len(edges[1]),3))\n",
    "    for inde, ei in enumerate(edges[0]):\n",
    "        edges_start[inde] = ei\n",
    "        edges_end[inde] = edges[1][inde]\n",
    "    \n",
    "    return edges_start, edges_end\n",
    "\n",
    "start_max, end_max = extract_feature_line(v,f,kmax,kmin,kdmax,EX_max,regular, singular, 1)\n",
    "start_min, end_min = extract_feature_line(v,f,kmax,kmin,kdmin,EX_min,regular, singular, -1)"
   ]
  },
  {
   "cell_type": "markdown",
   "metadata": {},
   "source": [
    "# Draw Feature Lines"
   ]
  },
  {
   "cell_type": "code",
   "execution_count": 72,
   "metadata": {},
   "outputs": [
    {
     "data": {
      "application/vnd.jupyter.widget-view+json": {
       "model_id": "afc8cb986f424832b7d780178ef4ed7f",
       "version_major": 2,
       "version_minor": 0
      },
      "text/plain": [
       "Renderer(camera=PerspectiveCamera(children=(DirectionalLight(color='white', intensity=0.6, position=(0.8809995…"
      ]
     },
     "metadata": {},
     "output_type": "display_data"
    },
    {
     "data": {
      "text/plain": [
       "2"
      ]
     },
     "execution_count": 72,
     "metadata": {},
     "output_type": "execute_result"
    }
   ],
   "source": [
    "p = mp.plot(v, f, c=color)\n",
    "p.add_lines(start_max, end_max, shading={\"line_color\": \"red\"})\n",
    "p.add_lines(start_min, end_min, shading={\"line_color\": \"blue\"})"
   ]
  },
  {
   "cell_type": "code",
   "execution_count": null,
   "metadata": {},
   "outputs": [],
   "source": []
  }
 ],
 "metadata": {
  "kernelspec": {
   "display_name": "Python 3",
   "language": "python",
   "name": "python3"
  },
  "language_info": {
   "codemirror_mode": {
    "name": "ipython",
    "version": 3
   },
   "file_extension": ".py",
   "mimetype": "text/x-python",
   "name": "python",
   "nbconvert_exporter": "python",
   "pygments_lexer": "ipython3",
   "version": "3.8.5"
  }
 },
 "nbformat": 4,
 "nbformat_minor": 4
}
